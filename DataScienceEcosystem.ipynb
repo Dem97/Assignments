{
 "cells": [
  {
   "cell_type": "markdown",
   "id": "a8c8acd3-f204-43d2-9635-3272a07d6643",
   "metadata": {},
   "source": [
    "# Data Science Tools and Ecosystem"
   ]
  },
  {
   "cell_type": "markdown",
   "id": "1b61e308-65c2-4968-a80e-b3657588604d",
   "metadata": {},
   "source": [
    "In this notebook, Data Science Tools and Ecosystem are summarized"
   ]
  },
  {
   "cell_type": "markdown",
   "id": "b904796a-ad1d-456a-a573-270fcf6ccfe0",
   "metadata": {},
   "source": [
    "**Objectives:**\n",
    "- List popular languages for Data Science\n",
    "- List commonly used libraries in Data Science\n",
    "- List popular Data Science Tools\n",
    "- Execute basic evaluating arithmetic expressions "
   ]
  },
  {
   "cell_type": "markdown",
   "id": "831e81be-813b-441b-8f9f-dd5bc3240274",
   "metadata": {},
   "source": [
    "Some of the puplar languages that Data Scientists use are:"
   ]
  },
  {
   "cell_type": "markdown",
   "id": "06b73505-6110-4b91-8171-95a46d335b1e",
   "metadata": {},
   "source": [
    "1. Python\n",
    "2. R\n",
    "3. Scala\n",
    "4. Java"
   ]
  },
  {
   "cell_type": "markdown",
   "id": "df5d435a-624a-41fc-8173-90a272441a42",
   "metadata": {},
   "source": [
    "Some of the commonly used libraries used by Data Scientists include:\n",
    "1. Panda\n",
    "2. Numpy\n",
    "3. Tensorflow\n",
    "4. gglpot2"
   ]
  },
  {
   "cell_type": "markdown",
   "id": "abdb114a-7181-4cad-8f6a-86c718ca1c11",
   "metadata": {},
   "source": [
    "|Data Science Tools|\n",
    "|------------------|\n",
    "|Watson Studio|\n",
    "|GitHub|\n",
    "|RStudio|"
   ]
  },
  {
   "cell_type": "markdown",
   "id": "60cdc258-6353-4c5d-a8da-dd4a477783fe",
   "metadata": {},
   "source": [
    "### Below are a few examples of evaluating arithmetic expressions in Python\n",
    "\n",
    "- 20+4 \n",
    "- 5-3\n",
    "- 20*3\n",
    "- 3*(4+2)"
   ]
  },
  {
   "cell_type": "code",
   "execution_count": 3,
   "id": "ff79674a-b641-4458-986c-c3aea52410e8",
   "metadata": {},
   "outputs": [
    {
     "data": {
      "text/plain": [
       "17"
      ]
     },
     "execution_count": 3,
     "metadata": {},
     "output_type": "execute_result"
    }
   ],
   "source": [
    "#This is a simple arithmetic expression to multiply the add integers\n",
    "(3*4)+5"
   ]
  },
  {
   "cell_type": "code",
   "execution_count": 4,
   "id": "794746fa-f54d-4559-892e-6c77fe032b85",
   "metadata": {},
   "outputs": [
    {
     "data": {
      "text/plain": [
       "3.3333333333333335"
      ]
     },
     "execution_count": 4,
     "metadata": {},
     "output_type": "execute_result"
    }
   ],
   "source": [
    "#This will convert 200 minutes to hours by divding 60\n",
    "200/60"
   ]
  },
  {
   "cell_type": "markdown",
   "id": "842ead44-49a9-4f55-956f-2b11e7b021a5",
   "metadata": {},
   "source": [
    "## Author\n",
    "Damiano Savoia"
   ]
  },
  {
   "cell_type": "code",
   "execution_count": null,
   "id": "269331f4-f799-4a17-85d9-3b94b28efdfd",
   "metadata": {},
   "outputs": [],
   "source": []
  }
 ],
 "metadata": {
  "kernelspec": {
   "display_name": "Python 3 (ipykernel)",
   "language": "python",
   "name": "python3"
  },
  "language_info": {
   "codemirror_mode": {
    "name": "ipython",
    "version": 3
   },
   "file_extension": ".py",
   "mimetype": "text/x-python",
   "name": "python",
   "nbconvert_exporter": "python",
   "pygments_lexer": "ipython3",
   "version": "3.12.7"
  }
 },
 "nbformat": 4,
 "nbformat_minor": 5
}
